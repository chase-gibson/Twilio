{
 "cells": [
  {
   "cell_type": "markdown",
   "metadata": {
    "id": "62ee0f25c00044c98cd188ad93ea1d15"
   },
   "source": [
    "I am puling data from the Ohip department of health on COVID mortality and vaccination rates.\n",
    "source: https://coronavirus.ohio.gov/wps/portal/gov/covid-19/dashboards/overview   "
   ]
  },
  {
   "cell_type": "code",
   "execution_count": 129,
   "metadata": {
    "id": "77071999-0ea7-4ab5-bbaf-572c3cee992e"
   },
   "outputs": [
    {
     "name": "stderr",
     "output_type": "stream",
     "text": [
      "/opt/conda/envs/Python-3.8-main/lib/python3.8/site-packages/IPython/core/interactiveshell.py:3165: DtypeWarning: Columns (3,4,5) have mixed types.Specify dtype option on import or set low_memory=False.\n",
      "  has_raised = await self.run_ast_nodes(code_ast.body, cell_name,\n"
     ]
    },
    {
     "name": "stdout",
     "output_type": "stream",
     "text": [
      "<class 'pandas.core.frame.DataFrame'>\n",
      "RangeIndex: 549537 entries, 0 to 549536\n",
      "Data columns (total 9 columns):\n",
      " #   Column                                            Non-Null Count   Dtype \n",
      "---  ------                                            --------------   ----- \n",
      " 0   County                                            549537 non-null  object\n",
      " 1   Sex                                               540949 non-null  object\n",
      " 2   Age Range                                         549537 non-null  object\n",
      " 3   Onset Date                                        523791 non-null  object\n",
      " 4   Admission Date                                    93489 non-null   object\n",
      " 5   Date Of Death                                     25746 non-null   object\n",
      " 6   Case Count                                        549537 non-null  int64 \n",
      " 7   Hospitalized Count                                549537 non-null  int64 \n",
      " 8   Death Due To Illness Count - County Of Residence  549537 non-null  int64 \n",
      "dtypes: int64(3), object(6)\n",
      "memory usage: 37.7+ MB\n"
     ]
    },
    {
     "data": {
      "text/html": [
       "<div>\n",
       "<style scoped>\n",
       "    .dataframe tbody tr th:only-of-type {\n",
       "        vertical-align: middle;\n",
       "    }\n",
       "\n",
       "    .dataframe tbody tr th {\n",
       "        vertical-align: top;\n",
       "    }\n",
       "\n",
       "    .dataframe thead th {\n",
       "        text-align: right;\n",
       "    }\n",
       "</style>\n",
       "<table border=\"1\" class=\"dataframe\">\n",
       "  <thead>\n",
       "    <tr style=\"text-align: right;\">\n",
       "      <th></th>\n",
       "      <th>Case Count</th>\n",
       "      <th>Hospitalized Count</th>\n",
       "      <th>Death Due To Illness Count - County Of Residence</th>\n",
       "    </tr>\n",
       "  </thead>\n",
       "  <tbody>\n",
       "    <tr>\n",
       "      <th>count</th>\n",
       "      <td>16175.000000</td>\n",
       "      <td>16175.000000</td>\n",
       "      <td>16175.000000</td>\n",
       "    </tr>\n",
       "    <tr>\n",
       "      <th>mean</th>\n",
       "      <td>8.755858</td>\n",
       "      <td>0.306213</td>\n",
       "      <td>0.102195</td>\n",
       "    </tr>\n",
       "    <tr>\n",
       "      <th>std</th>\n",
       "      <td>17.013151</td>\n",
       "      <td>0.500669</td>\n",
       "      <td>0.410092</td>\n",
       "    </tr>\n",
       "    <tr>\n",
       "      <th>min</th>\n",
       "      <td>0.000000</td>\n",
       "      <td>0.000000</td>\n",
       "      <td>0.000000</td>\n",
       "    </tr>\n",
       "    <tr>\n",
       "      <th>25%</th>\n",
       "      <td>1.000000</td>\n",
       "      <td>0.000000</td>\n",
       "      <td>0.000000</td>\n",
       "    </tr>\n",
       "    <tr>\n",
       "      <th>50%</th>\n",
       "      <td>2.000000</td>\n",
       "      <td>0.000000</td>\n",
       "      <td>0.000000</td>\n",
       "    </tr>\n",
       "    <tr>\n",
       "      <th>75%</th>\n",
       "      <td>10.000000</td>\n",
       "      <td>1.000000</td>\n",
       "      <td>0.000000</td>\n",
       "    </tr>\n",
       "    <tr>\n",
       "      <th>max</th>\n",
       "      <td>341.000000</td>\n",
       "      <td>6.000000</td>\n",
       "      <td>8.000000</td>\n",
       "    </tr>\n",
       "  </tbody>\n",
       "</table>\n",
       "</div>"
      ],
      "text/plain": [
       "         Case Count  Hospitalized Count  \\\n",
       "count  16175.000000        16175.000000   \n",
       "mean       8.755858            0.306213   \n",
       "std       17.013151            0.500669   \n",
       "min        0.000000            0.000000   \n",
       "25%        1.000000            0.000000   \n",
       "50%        2.000000            0.000000   \n",
       "75%       10.000000            1.000000   \n",
       "max      341.000000            6.000000   \n",
       "\n",
       "       Death Due To Illness Count - County Of Residence  \n",
       "count                                      16175.000000  \n",
       "mean                                           0.102195  \n",
       "std                                            0.410092  \n",
       "min                                            0.000000  \n",
       "25%                                            0.000000  \n",
       "50%                                            0.000000  \n",
       "75%                                            0.000000  \n",
       "max                                            8.000000  "
      ]
     },
     "execution_count": 129,
     "metadata": {},
     "output_type": "execute_result"
    }
   ],
   "source": [
    "import pandas as pd\n",
    "import matplotlib.pyplot as plt\n",
    "from matplotlib.pyplot import figure\n",
    "import datetime\n",
    "import scipy\n",
    "from scipy import stats\n",
    "from statsmodels.tsa.ar_model import AutoReg\n",
    "from sklearn.metrics import mean_squared_error\n",
    "import numpy\n",
    "from math import sqrt\n",
    "\n",
    "\n",
    "hospitalizations=pd.read_csv('COVIDDeathData_CountyOfResidence.csv')\n",
    "#hospitalizations.head()\n",
    "\n",
    "#get some desription of the contents\n",
    "hospitalizations.info()\n",
    "\n",
    "#filter to the county where I live, Hamilton\n",
    "hamilton=hospitalizations[hospitalizations[\"County\"] == 'Hamilton']\n",
    "hamilton.describe()"
   ]
  },
  {
   "cell_type": "code",
   "execution_count": 90,
   "metadata": {
    "id": "782982e082684fbe953311a320d0fd20"
   },
   "outputs": [
    {
     "data": {
      "text/html": [
       "<div>\n",
       "<style scoped>\n",
       "    .dataframe tbody tr th:only-of-type {\n",
       "        vertical-align: middle;\n",
       "    }\n",
       "\n",
       "    .dataframe tbody tr th {\n",
       "        vertical-align: top;\n",
       "    }\n",
       "\n",
       "    .dataframe thead th {\n",
       "        text-align: right;\n",
       "    }\n",
       "</style>\n",
       "<table border=\"1\" class=\"dataframe\">\n",
       "  <thead>\n",
       "    <tr style=\"text-align: right;\">\n",
       "      <th></th>\n",
       "      <th>County</th>\n",
       "      <th>Sex</th>\n",
       "      <th>Age Range</th>\n",
       "      <th>Onset Date</th>\n",
       "      <th>Admission Date</th>\n",
       "      <th>Date Of Death</th>\n",
       "      <th>Case Count</th>\n",
       "      <th>Hospitalized Count</th>\n",
       "      <th>Death Due To Illness Count - County Of Residence</th>\n",
       "    </tr>\n",
       "  </thead>\n",
       "  <tbody>\n",
       "    <tr>\n",
       "      <th>523807</th>\n",
       "      <td>Hamilton</td>\n",
       "      <td>Female</td>\n",
       "      <td>80+</td>\n",
       "      <td>NaN</td>\n",
       "      <td>NaN</td>\n",
       "      <td>2020-03-24</td>\n",
       "      <td>0</td>\n",
       "      <td>0</td>\n",
       "      <td>1</td>\n",
       "    </tr>\n",
       "    <tr>\n",
       "      <th>523819</th>\n",
       "      <td>Hamilton</td>\n",
       "      <td>Male</td>\n",
       "      <td>60-69</td>\n",
       "      <td>NaN</td>\n",
       "      <td>NaN</td>\n",
       "      <td>2020-03-26</td>\n",
       "      <td>0</td>\n",
       "      <td>0</td>\n",
       "      <td>1</td>\n",
       "    </tr>\n",
       "    <tr>\n",
       "      <th>523833</th>\n",
       "      <td>Hamilton</td>\n",
       "      <td>Female</td>\n",
       "      <td>80+</td>\n",
       "      <td>NaN</td>\n",
       "      <td>NaN</td>\n",
       "      <td>2020-03-28</td>\n",
       "      <td>0</td>\n",
       "      <td>0</td>\n",
       "      <td>1</td>\n",
       "    </tr>\n",
       "    <tr>\n",
       "      <th>523846</th>\n",
       "      <td>Hamilton</td>\n",
       "      <td>Male</td>\n",
       "      <td>80+</td>\n",
       "      <td>NaN</td>\n",
       "      <td>NaN</td>\n",
       "      <td>2020-03-29</td>\n",
       "      <td>0</td>\n",
       "      <td>0</td>\n",
       "      <td>1</td>\n",
       "    </tr>\n",
       "    <tr>\n",
       "      <th>523862</th>\n",
       "      <td>Hamilton</td>\n",
       "      <td>Male</td>\n",
       "      <td>70-79</td>\n",
       "      <td>NaN</td>\n",
       "      <td>NaN</td>\n",
       "      <td>2020-03-30</td>\n",
       "      <td>0</td>\n",
       "      <td>0</td>\n",
       "      <td>1</td>\n",
       "    </tr>\n",
       "  </tbody>\n",
       "</table>\n",
       "</div>"
      ],
      "text/plain": [
       "          County     Sex Age Range Onset Date Admission Date Date Of Death  \\\n",
       "523807  Hamilton  Female       80+        NaN            NaN    2020-03-24   \n",
       "523819  Hamilton    Male     60-69        NaN            NaN    2020-03-26   \n",
       "523833  Hamilton  Female       80+        NaN            NaN    2020-03-28   \n",
       "523846  Hamilton    Male       80+        NaN            NaN    2020-03-29   \n",
       "523862  Hamilton    Male     70-79        NaN            NaN    2020-03-30   \n",
       "\n",
       "        Case Count  Hospitalized Count  \\\n",
       "523807           0                   0   \n",
       "523819           0                   0   \n",
       "523833           0                   0   \n",
       "523846           0                   0   \n",
       "523862           0                   0   \n",
       "\n",
       "        Death Due To Illness Count - County Of Residence  \n",
       "523807                                                 1  \n",
       "523819                                                 1  \n",
       "523833                                                 1  \n",
       "523846                                                 1  \n",
       "523862                                                 1  "
      ]
     },
     "execution_count": 90,
     "metadata": {},
     "output_type": "execute_result"
    }
   ],
   "source": [
    "#The data has rows for multiple demographic splits and hospitalization rates. We're only interested in mortality rates for this exercise. \n",
    "#Filter the dataset down to only the death records.\n",
    "ham_filtered = hamilton.loc[hamilton[\"Date Of Death\"].notnull()]\n",
    "ham_filtered.head()"
   ]
  },
  {
   "cell_type": "code",
   "execution_count": 176,
   "metadata": {
    "id": "aa17b24b8ad748fc84a69385778ff938"
   },
   "outputs": [
    {
     "data": {
      "text/html": [
       "<div>\n",
       "<style scoped>\n",
       "    .dataframe tbody tr th:only-of-type {\n",
       "        vertical-align: middle;\n",
       "    }\n",
       "\n",
       "    .dataframe tbody tr th {\n",
       "        vertical-align: top;\n",
       "    }\n",
       "\n",
       "    .dataframe thead th {\n",
       "        text-align: right;\n",
       "    }\n",
       "</style>\n",
       "<table border=\"1\" class=\"dataframe\">\n",
       "  <thead>\n",
       "    <tr style=\"text-align: right;\">\n",
       "      <th></th>\n",
       "      <th>County</th>\n",
       "      <th>Sex</th>\n",
       "      <th>Age Range</th>\n",
       "      <th>Onset Date</th>\n",
       "      <th>Admission Date</th>\n",
       "      <th>Date Of Death</th>\n",
       "      <th>Case Count</th>\n",
       "      <th>Hospitalized Count</th>\n",
       "      <th>Death Due To Illness Count - County Of Residence</th>\n",
       "      <th>Date</th>\n",
       "    </tr>\n",
       "  </thead>\n",
       "  <tbody>\n",
       "    <tr>\n",
       "      <th>523807</th>\n",
       "      <td>Hamilton</td>\n",
       "      <td>Female</td>\n",
       "      <td>80+</td>\n",
       "      <td>NaN</td>\n",
       "      <td>NaN</td>\n",
       "      <td>2020-03-24</td>\n",
       "      <td>0</td>\n",
       "      <td>0</td>\n",
       "      <td>1</td>\n",
       "      <td>2020-03-24</td>\n",
       "    </tr>\n",
       "    <tr>\n",
       "      <th>523819</th>\n",
       "      <td>Hamilton</td>\n",
       "      <td>Male</td>\n",
       "      <td>60-69</td>\n",
       "      <td>NaN</td>\n",
       "      <td>NaN</td>\n",
       "      <td>2020-03-26</td>\n",
       "      <td>0</td>\n",
       "      <td>0</td>\n",
       "      <td>1</td>\n",
       "      <td>2020-03-26</td>\n",
       "    </tr>\n",
       "    <tr>\n",
       "      <th>523833</th>\n",
       "      <td>Hamilton</td>\n",
       "      <td>Female</td>\n",
       "      <td>80+</td>\n",
       "      <td>NaN</td>\n",
       "      <td>NaN</td>\n",
       "      <td>2020-03-28</td>\n",
       "      <td>0</td>\n",
       "      <td>0</td>\n",
       "      <td>1</td>\n",
       "      <td>2020-03-28</td>\n",
       "    </tr>\n",
       "    <tr>\n",
       "      <th>523846</th>\n",
       "      <td>Hamilton</td>\n",
       "      <td>Male</td>\n",
       "      <td>80+</td>\n",
       "      <td>NaN</td>\n",
       "      <td>NaN</td>\n",
       "      <td>2020-03-29</td>\n",
       "      <td>0</td>\n",
       "      <td>0</td>\n",
       "      <td>1</td>\n",
       "      <td>2020-03-29</td>\n",
       "    </tr>\n",
       "    <tr>\n",
       "      <th>523862</th>\n",
       "      <td>Hamilton</td>\n",
       "      <td>Male</td>\n",
       "      <td>70-79</td>\n",
       "      <td>NaN</td>\n",
       "      <td>NaN</td>\n",
       "      <td>2020-03-30</td>\n",
       "      <td>0</td>\n",
       "      <td>0</td>\n",
       "      <td>1</td>\n",
       "      <td>2020-03-30</td>\n",
       "    </tr>\n",
       "  </tbody>\n",
       "</table>\n",
       "</div>"
      ],
      "text/plain": [
       "          County     Sex Age Range Onset Date Admission Date Date Of Death  \\\n",
       "523807  Hamilton  Female       80+        NaN            NaN    2020-03-24   \n",
       "523819  Hamilton    Male     60-69        NaN            NaN    2020-03-26   \n",
       "523833  Hamilton  Female       80+        NaN            NaN    2020-03-28   \n",
       "523846  Hamilton    Male       80+        NaN            NaN    2020-03-29   \n",
       "523862  Hamilton    Male     70-79        NaN            NaN    2020-03-30   \n",
       "\n",
       "        Case Count  Hospitalized Count  \\\n",
       "523807           0                   0   \n",
       "523819           0                   0   \n",
       "523833           0                   0   \n",
       "523846           0                   0   \n",
       "523862           0                   0   \n",
       "\n",
       "        Death Due To Illness Count - County Of Residence       Date  \n",
       "523807                                                 1 2020-03-24  \n",
       "523819                                                 1 2020-03-26  \n",
       "523833                                                 1 2020-03-28  \n",
       "523846                                                 1 2020-03-29  \n",
       "523862                                                 1 2020-03-30  "
      ]
     },
     "execution_count": 176,
     "metadata": {},
     "output_type": "execute_result"
    }
   ],
   "source": [
    "#Our data has dates stored as strings, let's convert those to Date types\n",
    "ham_filtered['Date'] = pd.to_datetime(ham_filtered['Date Of Death'])\n",
    "ham_filtered.head()"
   ]
  },
  {
   "cell_type": "code",
   "execution_count": 92,
   "metadata": {
    "id": "0906d1506347408bbfb83d200ad9c50d"
   },
   "outputs": [
    {
     "data": {
      "text/plain": [
       "1653"
      ]
     },
     "execution_count": 92,
     "metadata": {},
     "output_type": "execute_result"
    }
   ],
   "source": [
    "#How many deaths are in the dataset?\n",
    "hamilton[\"Death Due To Illness Count - County Of Residence\"].sum()"
   ]
  },
  {
   "cell_type": "code",
   "execution_count": 93,
   "metadata": {
    "id": "6f826b4351ba40fa8c4a5c5f1f4e7c15"
   },
   "outputs": [
    {
     "data": {
      "text/html": [
       "<div>\n",
       "<style scoped>\n",
       "    .dataframe tbody tr th:only-of-type {\n",
       "        vertical-align: middle;\n",
       "    }\n",
       "\n",
       "    .dataframe tbody tr th {\n",
       "        vertical-align: top;\n",
       "    }\n",
       "\n",
       "    .dataframe thead th {\n",
       "        text-align: right;\n",
       "    }\n",
       "</style>\n",
       "<table border=\"1\" class=\"dataframe\">\n",
       "  <thead>\n",
       "    <tr style=\"text-align: right;\">\n",
       "      <th></th>\n",
       "      <th>County</th>\n",
       "      <th>Age Range</th>\n",
       "      <th>Case Count</th>\n",
       "      <th>Hospitalized Count</th>\n",
       "      <th>Death Due To Illness Count - County Of Residence</th>\n",
       "    </tr>\n",
       "  </thead>\n",
       "  <tbody>\n",
       "    <tr>\n",
       "      <th>min</th>\n",
       "      <td>Hamilton</td>\n",
       "      <td>0-19</td>\n",
       "      <td>0</td>\n",
       "      <td>0</td>\n",
       "      <td>0</td>\n",
       "    </tr>\n",
       "    <tr>\n",
       "      <th>max</th>\n",
       "      <td>Hamilton</td>\n",
       "      <td>80+</td>\n",
       "      <td>341</td>\n",
       "      <td>6</td>\n",
       "      <td>8</td>\n",
       "    </tr>\n",
       "  </tbody>\n",
       "</table>\n",
       "</div>"
      ],
      "text/plain": [
       "       County Age Range  Case Count  Hospitalized Count  \\\n",
       "min  Hamilton      0-19           0                   0   \n",
       "max  Hamilton       80+         341                   6   \n",
       "\n",
       "     Death Due To Illness Count - County Of Residence  \n",
       "min                                                 0  \n",
       "max                                                 8  "
      ]
     },
     "execution_count": 93,
     "metadata": {},
     "output_type": "execute_result"
    }
   ],
   "source": [
    "hamilton.agg([min, max])"
   ]
  },
  {
   "cell_type": "code",
   "execution_count": 94,
   "metadata": {
    "id": "7d744e63b46b458b852dc099f072f1f2"
   },
   "outputs": [
    {
     "data": {
      "text/plain": [
       "County                                                Hamilton\n",
       "Sex                                                     Female\n",
       "Age Range                                                 0-19\n",
       "Onset Date                                                None\n",
       "Admission Date                                            None\n",
       "Date Of Death                                       2020-03-24\n",
       "Case Count                                                   0\n",
       "Hospitalized Count                                           0\n",
       "Death Due To Illness Count - County Of Residence             1\n",
       "dtype: object"
      ]
     },
     "execution_count": 94,
     "metadata": {},
     "output_type": "execute_result"
    }
   ],
   "source": [
    "hamilton.loc[hamilton[\"Date Of Death\"].notnull()].min()"
   ]
  },
  {
   "cell_type": "code",
   "execution_count": 95,
   "metadata": {
    "id": "de913dd8012c4aa5855b47f25deab64a"
   },
   "outputs": [
    {
     "data": {
      "text/plain": [
       "County                                                Hamilton\n",
       "Sex                                                       Male\n",
       "Age Range                                                  80+\n",
       "Onset Date                                                None\n",
       "Admission Date                                            None\n",
       "Date Of Death                                       2021-12-26\n",
       "Case Count                                                   0\n",
       "Hospitalized Count                                           0\n",
       "Death Due To Illness Count - County Of Residence             8\n",
       "dtype: object"
      ]
     },
     "execution_count": 95,
     "metadata": {},
     "output_type": "execute_result"
    }
   ],
   "source": [
    "hamilton.loc[hamilton[\"Date Of Death\"].notnull()].max()"
   ]
  },
  {
   "cell_type": "code",
   "execution_count": 96,
   "metadata": {
    "id": "4dca68ca52d1430a857c74ecf0a64244",
    "scrolled": true
   },
   "outputs": [
    {
     "data": {
      "text/plain": [
       "County                                              16175\n",
       "Sex                                                 15842\n",
       "Age Range                                           16175\n",
       "Onset Date                                          14915\n",
       "Admission Date                                       4703\n",
       "Date Of Death                                        1260\n",
       "Case Count                                          16175\n",
       "Hospitalized Count                                  16175\n",
       "Death Due To Illness Count - County Of Residence    16175\n",
       "dtype: int64"
      ]
     },
     "execution_count": 96,
     "metadata": {},
     "output_type": "execute_result"
    }
   ],
   "source": [
    "hamilton.count()"
   ]
  },
  {
   "cell_type": "code",
   "execution_count": 97,
   "metadata": {
    "id": "f9a0d2850f41442aa788351b33279fcb",
    "scrolled": true
   },
   "outputs": [
    {
     "data": {
      "text/plain": [
       "16175"
      ]
     },
     "execution_count": 97,
     "metadata": {},
     "output_type": "execute_result"
    }
   ],
   "source": [
    "hamilton[\"Date Of Death\"].notnull().count()"
   ]
  },
  {
   "cell_type": "code",
   "execution_count": 98,
   "metadata": {
    "id": "25a6980221a24488ba28137aaf34a7ab"
   },
   "outputs": [
    {
     "data": {
      "text/html": [
       "<div>\n",
       "<style scoped>\n",
       "    .dataframe tbody tr th:only-of-type {\n",
       "        vertical-align: middle;\n",
       "    }\n",
       "\n",
       "    .dataframe tbody tr th {\n",
       "        vertical-align: top;\n",
       "    }\n",
       "\n",
       "    .dataframe thead th {\n",
       "        text-align: right;\n",
       "    }\n",
       "</style>\n",
       "<table border=\"1\" class=\"dataframe\">\n",
       "  <thead>\n",
       "    <tr style=\"text-align: right;\">\n",
       "      <th></th>\n",
       "      <th>Date</th>\n",
       "      <th>Case Count</th>\n",
       "      <th>Hospitalized Count</th>\n",
       "      <th>Death Due To Illness Count - County Of Residence</th>\n",
       "    </tr>\n",
       "  </thead>\n",
       "  <tbody>\n",
       "    <tr>\n",
       "      <th>0</th>\n",
       "      <td>2020-03-24</td>\n",
       "      <td>0</td>\n",
       "      <td>0</td>\n",
       "      <td>1</td>\n",
       "    </tr>\n",
       "    <tr>\n",
       "      <th>1</th>\n",
       "      <td>2020-03-26</td>\n",
       "      <td>0</td>\n",
       "      <td>0</td>\n",
       "      <td>1</td>\n",
       "    </tr>\n",
       "    <tr>\n",
       "      <th>2</th>\n",
       "      <td>2020-03-28</td>\n",
       "      <td>0</td>\n",
       "      <td>0</td>\n",
       "      <td>1</td>\n",
       "    </tr>\n",
       "    <tr>\n",
       "      <th>3</th>\n",
       "      <td>2020-03-29</td>\n",
       "      <td>0</td>\n",
       "      <td>0</td>\n",
       "      <td>1</td>\n",
       "    </tr>\n",
       "    <tr>\n",
       "      <th>4</th>\n",
       "      <td>2020-03-30</td>\n",
       "      <td>0</td>\n",
       "      <td>0</td>\n",
       "      <td>1</td>\n",
       "    </tr>\n",
       "  </tbody>\n",
       "</table>\n",
       "</div>"
      ],
      "text/plain": [
       "        Date  Case Count  Hospitalized Count  \\\n",
       "0 2020-03-24           0                   0   \n",
       "1 2020-03-26           0                   0   \n",
       "2 2020-03-28           0                   0   \n",
       "3 2020-03-29           0                   0   \n",
       "4 2020-03-30           0                   0   \n",
       "\n",
       "   Death Due To Illness Count - County Of Residence  \n",
       "0                                                 1  \n",
       "1                                                 1  \n",
       "2                                                 1  \n",
       "3                                                 1  \n",
       "4                                                 1  "
      ]
     },
     "execution_count": 98,
     "metadata": {},
     "output_type": "execute_result"
    }
   ],
   "source": [
    "#Flatten out all the demographic splits using a group-by aggregation\n",
    "ham_grouped=ham_filtered.groupby((\"Date\"), as_index=False).sum(\"Death Due To Illness Count - County Of Residence\")\n",
    "ham_grouped.head()"
   ]
  },
  {
   "cell_type": "code",
   "execution_count": 177,
   "metadata": {
    "id": "ee4ebf02109d4eab838714db921d85dc"
   },
   "outputs": [
    {
     "name": "stdout",
     "output_type": "stream",
     "text": [
      "Index(['Date', 'Case Count', 'Hospitalized Count',\n",
      "       'Death Due To Illness Count - County Of Residence'],\n",
      "      dtype='object')\n"
     ]
    }
   ],
   "source": [
    "print(ham_grouped.columns)"
   ]
  },
  {
   "cell_type": "code",
   "execution_count": 181,
   "metadata": {
    "id": "f47f52066cf34b529f9c6fdb74aa850c",
    "scrolled": true
   },
   "outputs": [
    {
     "data": {
      "image/png": "[encoded data removed]",
      "text/plain": [
       "<Figure size 432x288 with 1 Axes>"
      ]
     },
     "metadata": {
      "needs_background": "light"
     },
     "output_type": "display_data"
    }
   ],
   "source": [
    "#Let's investigate more by plotting the mortality data\n",
    "ham_grouped.set_index('Date')\n",
    "\n",
    "# Draw a line plot of Deaths and Dates\n",
    "plt.plot(ham_grouped[\"Date\"], ham_grouped[\"Death Due To Illness Count - County Of Residence\"])\n",
    "plt.xlabel('Date')\n",
    "plt.ylabel('deaths')\n",
    "\n",
    "# Create a title\n",
    "plt.title('COVID Deaths in Hamilton Co, OH')\n",
    "\n",
    "# Show the plot\n",
    "plt.show()"
   ]
  },
  {
   "cell_type": "markdown",
   "metadata": {
    "id": "bbaf2f5788ff4d5eb12011b13f656888"
   },
   "source": [
    "It looks like mortality from COVID spiked here around January 2021, fell dramatically in the spring, and increased to a smaller degree by the end of the year."
   ]
  },
  {
   "cell_type": "code",
   "execution_count": 183,
   "metadata": {
    "id": "f8b56ee0c4f34cdc8d930da23458c99d"
   },
   "outputs": [
    {
     "name": "stdout",
     "output_type": "stream",
     "text": [
      "<class 'pandas.core.frame.DataFrame'>\n",
      "RangeIndex: 35100 entries, 0 to 35099\n",
      "Data columns (total 5 columns):\n",
      " #   Column                          Non-Null Count  Dtype \n",
      "---  ------                          --------------  ----- \n",
      " 0   county                          35100 non-null  object\n",
      " 1   date                            35100 non-null  object\n",
      " 2   vaccines_started                35100 non-null  int64 \n",
      " 3   vaccines_completed              35100 non-null  int64 \n",
      " 4   vaccines_first_additional_dose  35100 non-null  int64 \n",
      "dtypes: int64(3), object(2)\n",
      "memory usage: 1.3+ MB\n"
     ]
    },
    {
     "data": {
      "text/html": [
       "<div>\n",
       "<style scoped>\n",
       "    .dataframe tbody tr th:only-of-type {\n",
       "        vertical-align: middle;\n",
       "    }\n",
       "\n",
       "    .dataframe tbody tr th {\n",
       "        vertical-align: top;\n",
       "    }\n",
       "\n",
       "    .dataframe thead th {\n",
       "        text-align: right;\n",
       "    }\n",
       "</style>\n",
       "<table border=\"1\" class=\"dataframe\">\n",
       "  <thead>\n",
       "    <tr style=\"text-align: right;\">\n",
       "      <th></th>\n",
       "      <th>vaccines_started</th>\n",
       "      <th>vaccines_completed</th>\n",
       "      <th>vaccines_first_additional_dose</th>\n",
       "    </tr>\n",
       "  </thead>\n",
       "  <tbody>\n",
       "    <tr>\n",
       "      <th>count</th>\n",
       "      <td>390.000000</td>\n",
       "      <td>390.000000</td>\n",
       "      <td>390.000000</td>\n",
       "    </tr>\n",
       "    <tr>\n",
       "      <th>mean</th>\n",
       "      <td>1328.502564</td>\n",
       "      <td>1220.043590</td>\n",
       "      <td>536.633333</td>\n",
       "    </tr>\n",
       "    <tr>\n",
       "      <th>std</th>\n",
       "      <td>1503.741954</td>\n",
       "      <td>1465.688676</td>\n",
       "      <td>992.518907</td>\n",
       "    </tr>\n",
       "    <tr>\n",
       "      <th>min</th>\n",
       "      <td>0.000000</td>\n",
       "      <td>0.000000</td>\n",
       "      <td>0.000000</td>\n",
       "    </tr>\n",
       "    <tr>\n",
       "      <th>25%</th>\n",
       "      <td>453.250000</td>\n",
       "      <td>368.250000</td>\n",
       "      <td>0.000000</td>\n",
       "    </tr>\n",
       "    <tr>\n",
       "      <th>50%</th>\n",
       "      <td>734.500000</td>\n",
       "      <td>608.000000</td>\n",
       "      <td>0.000000</td>\n",
       "    </tr>\n",
       "    <tr>\n",
       "      <th>75%</th>\n",
       "      <td>1598.500000</td>\n",
       "      <td>1563.500000</td>\n",
       "      <td>580.250000</td>\n",
       "    </tr>\n",
       "    <tr>\n",
       "      <th>max</th>\n",
       "      <td>8468.000000</td>\n",
       "      <td>8865.000000</td>\n",
       "      <td>3602.000000</td>\n",
       "    </tr>\n",
       "  </tbody>\n",
       "</table>\n",
       "</div>"
      ],
      "text/plain": [
       "       vaccines_started  vaccines_completed  vaccines_first_additional_dose\n",
       "count        390.000000          390.000000                      390.000000\n",
       "mean        1328.502564         1220.043590                      536.633333\n",
       "std         1503.741954         1465.688676                      992.518907\n",
       "min            0.000000            0.000000                        0.000000\n",
       "25%          453.250000          368.250000                        0.000000\n",
       "50%          734.500000          608.000000                        0.000000\n",
       "75%         1598.500000         1563.500000                      580.250000\n",
       "max         8468.000000         8865.000000                     3602.000000"
      ]
     },
     "execution_count": 183,
     "metadata": {},
     "output_type": "execute_result"
    }
   ],
   "source": [
    "#let's do something similar with vaccinations\n",
    "vaccinations=pd.read_csv('vaccine_data.csv')\n",
    "\n",
    "#get some desription of the contents\n",
    "vaccinations.info()\n",
    "\n",
    "#filter to the county where I live\n",
    "vax_filtered=vaccinations[vaccinations[\"county\"] == 'Hamilton']\n",
    "vax_filtered.describe()"
   ]
  },
  {
   "cell_type": "code",
   "execution_count": 184,
   "metadata": {
    "id": "228112641bda46ea85c818eab90cd057"
   },
   "outputs": [
    {
     "data": {
      "text/plain": [
       "county                              Hamilton\n",
       "date                              2020-12-14\n",
       "vaccines_started                           0\n",
       "vaccines_completed                         0\n",
       "vaccines_first_additional_dose             0\n",
       "dtype: object"
      ]
     },
     "execution_count": 184,
     "metadata": {},
     "output_type": "execute_result"
    }
   ],
   "source": [
    "vax_filtered.loc[vax_filtered[\"date\"].notnull()].min()"
   ]
  },
  {
   "cell_type": "code",
   "execution_count": 185,
   "metadata": {
    "id": "dc08f347cb0b4be4b5a8ac6acdaad388"
   },
   "outputs": [
    {
     "name": "stdout",
     "output_type": "stream",
     "text": [
      "<class 'pandas.core.frame.DataFrame'>\n",
      "Int64Index: 390 entries, 11700 to 12089\n",
      "Data columns (total 5 columns):\n",
      " #   Column                          Non-Null Count  Dtype \n",
      "---  ------                          --------------  ----- \n",
      " 0   county                          390 non-null    object\n",
      " 1   date                            390 non-null    object\n",
      " 2   vaccines_started                390 non-null    int64 \n",
      " 3   vaccines_completed              390 non-null    int64 \n",
      " 4   vaccines_first_additional_dose  390 non-null    int64 \n",
      "dtypes: int64(3), object(2)\n",
      "memory usage: 18.3+ KB\n"
     ]
    }
   ],
   "source": [
    "#vax_filtered.head()\n",
    "vax_filtered.info()"
   ]
  },
  {
   "cell_type": "code",
   "execution_count": 186,
   "metadata": {
    "id": "4a8a9d032877442f8e9f566d6673be2d"
   },
   "outputs": [
    {
     "name": "stderr",
     "output_type": "stream",
     "text": [
      "<ipython-input-186-06093b7bf8e5>:1: SettingWithCopyWarning: \n",
      "A value is trying to be set on a copy of a slice from a DataFrame.\n",
      "Try using .loc[row_indexer,col_indexer] = value instead\n",
      "\n",
      "See the caveats in the documentation: https://pandas.pydata.org/pandas-docs/stable/user_guide/indexing.html#returning-a-view-versus-a-copy\n",
      "  vax_filtered['Date'] = pd.to_datetime(vax_filtered['date'])\n",
      "/opt/conda/envs/Python-3.8-main/lib/python3.8/site-packages/pandas/core/frame.py:4308: SettingWithCopyWarning: \n",
      "A value is trying to be set on a copy of a slice from a DataFrame\n",
      "\n",
      "See the caveats in the documentation: https://pandas.pydata.org/pandas-docs/stable/user_guide/indexing.html#returning-a-view-versus-a-copy\n",
      "  return super().drop(\n"
     ]
    },
    {
     "data": {
      "text/html": [
       "<div>\n",
       "<style scoped>\n",
       "    .dataframe tbody tr th:only-of-type {\n",
       "        vertical-align: middle;\n",
       "    }\n",
       "\n",
       "    .dataframe tbody tr th {\n",
       "        vertical-align: top;\n",
       "    }\n",
       "\n",
       "    .dataframe thead th {\n",
       "        text-align: right;\n",
       "    }\n",
       "</style>\n",
       "<table border=\"1\" class=\"dataframe\">\n",
       "  <thead>\n",
       "    <tr style=\"text-align: right;\">\n",
       "      <th></th>\n",
       "      <th>county</th>\n",
       "      <th>vaccines_started</th>\n",
       "      <th>vaccines_completed</th>\n",
       "      <th>vaccines_first_additional_dose</th>\n",
       "      <th>Date</th>\n",
       "    </tr>\n",
       "  </thead>\n",
       "  <tbody>\n",
       "    <tr>\n",
       "      <th>11700</th>\n",
       "      <td>Hamilton</td>\n",
       "      <td>9</td>\n",
       "      <td>0</td>\n",
       "      <td>0</td>\n",
       "      <td>2020-12-14</td>\n",
       "    </tr>\n",
       "    <tr>\n",
       "      <th>11701</th>\n",
       "      <td>Hamilton</td>\n",
       "      <td>145</td>\n",
       "      <td>0</td>\n",
       "      <td>0</td>\n",
       "      <td>2020-12-15</td>\n",
       "    </tr>\n",
       "    <tr>\n",
       "      <th>11702</th>\n",
       "      <td>Hamilton</td>\n",
       "      <td>134</td>\n",
       "      <td>0</td>\n",
       "      <td>0</td>\n",
       "      <td>2020-12-16</td>\n",
       "    </tr>\n",
       "    <tr>\n",
       "      <th>11703</th>\n",
       "      <td>Hamilton</td>\n",
       "      <td>184</td>\n",
       "      <td>0</td>\n",
       "      <td>0</td>\n",
       "      <td>2020-12-17</td>\n",
       "    </tr>\n",
       "    <tr>\n",
       "      <th>11704</th>\n",
       "      <td>Hamilton</td>\n",
       "      <td>163</td>\n",
       "      <td>0</td>\n",
       "      <td>0</td>\n",
       "      <td>2020-12-18</td>\n",
       "    </tr>\n",
       "  </tbody>\n",
       "</table>\n",
       "</div>"
      ],
      "text/plain": [
       "         county  vaccines_started  vaccines_completed  \\\n",
       "11700  Hamilton                 9                   0   \n",
       "11701  Hamilton               145                   0   \n",
       "11702  Hamilton               134                   0   \n",
       "11703  Hamilton               184                   0   \n",
       "11704  Hamilton               163                   0   \n",
       "\n",
       "       vaccines_first_additional_dose       Date  \n",
       "11700                               0 2020-12-14  \n",
       "11701                               0 2020-12-15  \n",
       "11702                               0 2020-12-16  \n",
       "11703                               0 2020-12-17  \n",
       "11704                               0 2020-12-18  "
      ]
     },
     "execution_count": 186,
     "metadata": {},
     "output_type": "execute_result"
    }
   ],
   "source": [
    "#Let's fix the Date again\n",
    "vax_filtered['Date'] = pd.to_datetime(vax_filtered['date'])\n",
    "vax_filtered.drop('date', axis=1, inplace=True)\n",
    "vax_filtered.head()"
   ]
  },
  {
   "cell_type": "code",
   "execution_count": 188,
   "metadata": {
    "id": "d443a19e9545429bb97924c8f53d7179"
   },
   "outputs": [
    {
     "data": {
      "image/png": "[encoded data removed]",
      "text/plain": [
       "<Figure size 432x288 with 1 Axes>"
      ]
     },
     "metadata": {
      "needs_background": "light"
     },
     "output_type": "display_data"
    }
   ],
   "source": [
    "#Let's investigate by plotting Vaccinations started and completed (assuming a 2 dose protocol?)\n",
    "vax_filtered.set_index('Date')\n",
    "\n",
    "# Draw a line plot of Vaccinations and Dates\n",
    "plt.plot(vax_filtered[\"Date\"], vax_filtered[\"vaccines_started\"], label='Vaccines started')\n",
    "plt.plot(vax_filtered[\"Date\"], vax_filtered[\"vaccines_completed\"], label='Vaccines completed')\n",
    "plt.xlabel('Date')\n",
    "plt.ylabel('Count')\n",
    "\n",
    "# Add a title\n",
    "plt.title('Vaccinations')\n",
    "\n",
    "# Show the plot\n",
    "plt.show()"
   ]
  },
  {
   "cell_type": "code",
   "execution_count": 189,
   "metadata": {
    "id": "57213653a05f4efa8d6351e55ff308c1"
   },
   "outputs": [
    {
     "data": {
      "text/html": [
       "<div>\n",
       "<style scoped>\n",
       "    .dataframe tbody tr th:only-of-type {\n",
       "        vertical-align: middle;\n",
       "    }\n",
       "\n",
       "    .dataframe tbody tr th {\n",
       "        vertical-align: top;\n",
       "    }\n",
       "\n",
       "    .dataframe thead th {\n",
       "        text-align: right;\n",
       "    }\n",
       "</style>\n",
       "<table border=\"1\" class=\"dataframe\">\n",
       "  <thead>\n",
       "    <tr style=\"text-align: right;\">\n",
       "      <th></th>\n",
       "      <th>County</th>\n",
       "      <th>Sex</th>\n",
       "      <th>Age Range</th>\n",
       "      <th>Onset Date</th>\n",
       "      <th>Admission Date</th>\n",
       "      <th>Date Of Death</th>\n",
       "      <th>Case Count</th>\n",
       "      <th>Hospitalized Count</th>\n",
       "      <th>Death Due To Illness Count - County Of Residence</th>\n",
       "      <th>Date</th>\n",
       "      <th>county</th>\n",
       "      <th>vaccines_started</th>\n",
       "      <th>vaccines_completed</th>\n",
       "      <th>vaccines_first_additional_dose</th>\n",
       "    </tr>\n",
       "  </thead>\n",
       "  <tbody>\n",
       "    <tr>\n",
       "      <th>0</th>\n",
       "      <td>Hamilton</td>\n",
       "      <td>Female</td>\n",
       "      <td>60-69</td>\n",
       "      <td>NaN</td>\n",
       "      <td>NaN</td>\n",
       "      <td>2020-12-14</td>\n",
       "      <td>0</td>\n",
       "      <td>0</td>\n",
       "      <td>1</td>\n",
       "      <td>2020-12-14</td>\n",
       "      <td>Hamilton</td>\n",
       "      <td>9</td>\n",
       "      <td>0</td>\n",
       "      <td>0</td>\n",
       "    </tr>\n",
       "    <tr>\n",
       "      <th>1</th>\n",
       "      <td>Hamilton</td>\n",
       "      <td>Female</td>\n",
       "      <td>50-59</td>\n",
       "      <td>NaN</td>\n",
       "      <td>NaN</td>\n",
       "      <td>2020-12-14</td>\n",
       "      <td>0</td>\n",
       "      <td>0</td>\n",
       "      <td>1</td>\n",
       "      <td>2020-12-14</td>\n",
       "      <td>Hamilton</td>\n",
       "      <td>9</td>\n",
       "      <td>0</td>\n",
       "      <td>0</td>\n",
       "    </tr>\n",
       "    <tr>\n",
       "      <th>2</th>\n",
       "      <td>Hamilton</td>\n",
       "      <td>Female</td>\n",
       "      <td>70-79</td>\n",
       "      <td>NaN</td>\n",
       "      <td>NaN</td>\n",
       "      <td>2020-12-14</td>\n",
       "      <td>0</td>\n",
       "      <td>0</td>\n",
       "      <td>1</td>\n",
       "      <td>2020-12-14</td>\n",
       "      <td>Hamilton</td>\n",
       "      <td>9</td>\n",
       "      <td>0</td>\n",
       "      <td>0</td>\n",
       "    </tr>\n",
       "    <tr>\n",
       "      <th>3</th>\n",
       "      <td>Hamilton</td>\n",
       "      <td>Female</td>\n",
       "      <td>80+</td>\n",
       "      <td>NaN</td>\n",
       "      <td>NaN</td>\n",
       "      <td>2020-12-14</td>\n",
       "      <td>0</td>\n",
       "      <td>0</td>\n",
       "      <td>5</td>\n",
       "      <td>2020-12-14</td>\n",
       "      <td>Hamilton</td>\n",
       "      <td>9</td>\n",
       "      <td>0</td>\n",
       "      <td>0</td>\n",
       "    </tr>\n",
       "    <tr>\n",
       "      <th>4</th>\n",
       "      <td>Hamilton</td>\n",
       "      <td>Male</td>\n",
       "      <td>60-69</td>\n",
       "      <td>NaN</td>\n",
       "      <td>NaN</td>\n",
       "      <td>2020-12-14</td>\n",
       "      <td>0</td>\n",
       "      <td>0</td>\n",
       "      <td>2</td>\n",
       "      <td>2020-12-14</td>\n",
       "      <td>Hamilton</td>\n",
       "      <td>9</td>\n",
       "      <td>0</td>\n",
       "      <td>0</td>\n",
       "    </tr>\n",
       "  </tbody>\n",
       "</table>\n",
       "</div>"
      ],
      "text/plain": [
       "     County     Sex Age Range Onset Date Admission Date Date Of Death  \\\n",
       "0  Hamilton  Female     60-69        NaN            NaN    2020-12-14   \n",
       "1  Hamilton  Female     50-59        NaN            NaN    2020-12-14   \n",
       "2  Hamilton  Female     70-79        NaN            NaN    2020-12-14   \n",
       "3  Hamilton  Female       80+        NaN            NaN    2020-12-14   \n",
       "4  Hamilton    Male     60-69        NaN            NaN    2020-12-14   \n",
       "\n",
       "   Case Count  Hospitalized Count  \\\n",
       "0           0                   0   \n",
       "1           0                   0   \n",
       "2           0                   0   \n",
       "3           0                   0   \n",
       "4           0                   0   \n",
       "\n",
       "   Death Due To Illness Count - County Of Residence       Date    county  \\\n",
       "0                                                 1 2020-12-14  Hamilton   \n",
       "1                                                 1 2020-12-14  Hamilton   \n",
       "2                                                 1 2020-12-14  Hamilton   \n",
       "3                                                 5 2020-12-14  Hamilton   \n",
       "4                                                 2 2020-12-14  Hamilton   \n",
       "\n",
       "   vaccines_started  vaccines_completed  vaccines_first_additional_dose  \n",
       "0                 9                   0                               0  \n",
       "1                 9                   0                               0  \n",
       "2                 9                   0                               0  \n",
       "3                 9                   0                               0  \n",
       "4                 9                   0                               0  "
      ]
     },
     "execution_count": 189,
     "metadata": {},
     "output_type": "execute_result"
    }
   ],
   "source": [
    "#Let's join the vaccination and mortality data\n",
    "vax_and_death_inner = pd.merge(ham_filtered, vax_filtered, how='inner')\n",
    "vax_and_death_inner.head()\n",
    "#hmm this might drop records that we want because the dates of vaccinations would potentially impact deaths later."
   ]
  },
  {
   "cell_type": "code",
   "execution_count": 190,
   "metadata": {
    "id": "c415df4cf49b4c4a853678cbe68d61b8"
   },
   "outputs": [
    {
     "data": {
      "text/html": [
       "<div>\n",
       "<style scoped>\n",
       "    .dataframe tbody tr th:only-of-type {\n",
       "        vertical-align: middle;\n",
       "    }\n",
       "\n",
       "    .dataframe tbody tr th {\n",
       "        vertical-align: top;\n",
       "    }\n",
       "\n",
       "    .dataframe thead th {\n",
       "        text-align: right;\n",
       "    }\n",
       "</style>\n",
       "<table border=\"1\" class=\"dataframe\">\n",
       "  <thead>\n",
       "    <tr style=\"text-align: right;\">\n",
       "      <th></th>\n",
       "      <th>Date</th>\n",
       "      <th>Case Count</th>\n",
       "      <th>Hospitalized Count</th>\n",
       "      <th>Death Due To Illness Count - County Of Residence</th>\n",
       "      <th>county</th>\n",
       "      <th>vaccines_started</th>\n",
       "      <th>vaccines_completed</th>\n",
       "      <th>vaccines_first_additional_dose</th>\n",
       "    </tr>\n",
       "  </thead>\n",
       "  <tbody>\n",
       "    <tr>\n",
       "      <th>210</th>\n",
       "      <td>2020-12-14</td>\n",
       "      <td>0</td>\n",
       "      <td>0</td>\n",
       "      <td>12</td>\n",
       "      <td>Hamilton</td>\n",
       "      <td>9.0</td>\n",
       "      <td>0.0</td>\n",
       "      <td>0.0</td>\n",
       "    </tr>\n",
       "    <tr>\n",
       "      <th>211</th>\n",
       "      <td>2020-12-15</td>\n",
       "      <td>0</td>\n",
       "      <td>0</td>\n",
       "      <td>13</td>\n",
       "      <td>Hamilton</td>\n",
       "      <td>145.0</td>\n",
       "      <td>0.0</td>\n",
       "      <td>0.0</td>\n",
       "    </tr>\n",
       "    <tr>\n",
       "      <th>212</th>\n",
       "      <td>2020-12-16</td>\n",
       "      <td>0</td>\n",
       "      <td>0</td>\n",
       "      <td>14</td>\n",
       "      <td>Hamilton</td>\n",
       "      <td>134.0</td>\n",
       "      <td>0.0</td>\n",
       "      <td>0.0</td>\n",
       "    </tr>\n",
       "    <tr>\n",
       "      <th>213</th>\n",
       "      <td>2020-12-17</td>\n",
       "      <td>0</td>\n",
       "      <td>0</td>\n",
       "      <td>11</td>\n",
       "      <td>Hamilton</td>\n",
       "      <td>184.0</td>\n",
       "      <td>0.0</td>\n",
       "      <td>0.0</td>\n",
       "    </tr>\n",
       "    <tr>\n",
       "      <th>214</th>\n",
       "      <td>2020-12-18</td>\n",
       "      <td>0</td>\n",
       "      <td>0</td>\n",
       "      <td>10</td>\n",
       "      <td>Hamilton</td>\n",
       "      <td>163.0</td>\n",
       "      <td>0.0</td>\n",
       "      <td>0.0</td>\n",
       "    </tr>\n",
       "  </tbody>\n",
       "</table>\n",
       "</div>"
      ],
      "text/plain": [
       "          Date  Case Count  Hospitalized Count  \\\n",
       "210 2020-12-14           0                   0   \n",
       "211 2020-12-15           0                   0   \n",
       "212 2020-12-16           0                   0   \n",
       "213 2020-12-17           0                   0   \n",
       "214 2020-12-18           0                   0   \n",
       "\n",
       "     Death Due To Illness Count - County Of Residence    county  \\\n",
       "210                                                12  Hamilton   \n",
       "211                                                13  Hamilton   \n",
       "212                                                14  Hamilton   \n",
       "213                                                11  Hamilton   \n",
       "214                                                10  Hamilton   \n",
       "\n",
       "     vaccines_started  vaccines_completed  vaccines_first_additional_dose  \n",
       "210               9.0                 0.0                             0.0  \n",
       "211             145.0                 0.0                             0.0  \n",
       "212             134.0                 0.0                             0.0  \n",
       "213             184.0                 0.0                             0.0  \n",
       "214             163.0                 0.0                             0.0  "
      ]
     },
     "execution_count": 190,
     "metadata": {},
     "output_type": "execute_result"
    }
   ],
   "source": [
    "#Do a left join from Mortality and filter to a date range where we have consistent data between the two sets.\n",
    "vax_and_death_left = pd.merge(ham_grouped, vax_filtered, how='left')\n",
    "vax_and_death_left.head()\n",
    "vax_and_death_left=vax_and_death_left[vax_and_death_left[\"Date\"]>= '2020-12-14']\n",
    "vax_and_death_left.head()"
   ]
  },
  {
   "cell_type": "code",
   "execution_count": 108,
   "metadata": {
    "id": "d2b15581f5f2437b985032d0f8fec3da"
   },
   "outputs": [
    {
     "data": {
      "image/png": "[encoded data removed]",
      "text/plain": [
       "<Figure size 576x432 with 1 Axes>"
      ]
     },
     "metadata": {
      "needs_background": "light"
     },
     "output_type": "display_data"
    }
   ],
   "source": [
    "#Let's plot mortality against Vaccinations\n",
    "vax_filtered.set_index('Date')\n",
    "\n",
    "# Draw a line plot of Vaccinations and Dates\n",
    "plt.plot(vax_and_death_left[\"Date\"], vax_and_death_left[\"vaccines_started\"], color=\"blue\", label='Vaccines started')\n",
    "#plt.plot(vax_and_death_left[\"Date\"], vax_and_death_left[\"vaccines_completed\"], color=\"green\", label='Vaccines completed')\n",
    "plt.plot(vax_and_death_left[\"Date\"], vax_and_death_left[\"Death Due To Illness Count - County Of Residence\"], color=\"black\", label='Deaths')\n",
    "\n",
    "plt.xlabel('Date')\n",
    "plt.ylabel('Count')\n",
    "\n",
    "# Add a title\n",
    "plt.title('Vaccines Started versus Deaths')\n",
    "\n",
    "# Show the plot\n",
    "plt.show()"
   ]
  },
  {
   "cell_type": "markdown",
   "metadata": {
    "id": "e337414e419b416e98b76854ab0a450f"
   },
   "source": [
    "That graph isn't meaningful because the scale of the mortality data is (thankfully) so much lower than the vaccination series. Let's try again with multiple Y-axes."
   ]
  },
  {
   "cell_type": "code",
   "execution_count": 128,
   "metadata": {
    "id": "0fde043977d540b7bb3bfc06626bce78"
   },
   "outputs": [
    {
     "data": {
      "image/png": "[encoded data removed]",
      "text/plain": [
       "<Figure size 576x432 with 2 Axes>"
      ]
     },
     "metadata": {
      "needs_background": "light"
     },
     "output_type": "display_data"
    }
   ],
   "source": [
    "#Built a plot with multiple y axes\n",
    "fig, ax1 = plt.subplots()\n",
    "\n",
    "color = 'tab:blue'\n",
    "ax1.set_xlabel('Date')\n",
    "ax1.set_ylabel('Count of Vaccines', color=color)\n",
    "ax1.plot(vax_and_death_left[\"Date\"], vax_and_death_left[\"vaccines_started\"], color=color)\n",
    "ax1.tick_params(axis='y', labelcolor=color)\n",
    "\n",
    "ax2 = ax1.twinx()  # instantiate a second axes that shares the same x-axis\n",
    "\n",
    "color = 'tab:red'\n",
    "ax2.set_ylabel('Count of Deaths', color=color)  # we already handled the x-label with ax1\n",
    "ax2.plot(vax_and_death_left[\"Date\"], vax_and_death_left[\"Death Due To Illness Count - County Of Residence\"], color=color)\n",
    "ax2.tick_params(axis='y', labelcolor=color)\n",
    "\n",
    "\n",
    "plt.show()"
   ]
  },
  {
   "cell_type": "markdown",
   "metadata": {
    "id": "517b3f2c9dce453891052a1cc7d96702"
   },
   "source": [
    "It looks like there's a relationship between deaths and vaccinations - deaths fall in the first half of 2021 as vaccinations rise. By Q4 2021 though, vaccinations have leveled off, and deaths reach what appears to be a new elevated plateau."
   ]
  },
  {
   "cell_type": "code",
   "execution_count": 110,
   "metadata": {
    "id": "0b7b018b74db4046a9a9c0c06c4b167d"
   },
   "outputs": [
    {
     "data": {
      "text/html": [
       "<div>\n",
       "<style scoped>\n",
       "    .dataframe tbody tr th:only-of-type {\n",
       "        vertical-align: middle;\n",
       "    }\n",
       "\n",
       "    .dataframe tbody tr th {\n",
       "        vertical-align: top;\n",
       "    }\n",
       "\n",
       "    .dataframe thead th {\n",
       "        text-align: right;\n",
       "    }\n",
       "</style>\n",
       "<table border=\"1\" class=\"dataframe\">\n",
       "  <thead>\n",
       "    <tr style=\"text-align: right;\">\n",
       "      <th></th>\n",
       "      <th>Case Count</th>\n",
       "      <th>Hospitalized Count</th>\n",
       "      <th>Death Due To Illness Count - County Of Residence</th>\n",
       "      <th>vaccines_started</th>\n",
       "      <th>vaccines_completed</th>\n",
       "      <th>vaccines_first_additional_dose</th>\n",
       "    </tr>\n",
       "  </thead>\n",
       "  <tbody>\n",
       "    <tr>\n",
       "      <th>Case Count</th>\n",
       "      <td>NaN</td>\n",
       "      <td>NaN</td>\n",
       "      <td>NaN</td>\n",
       "      <td>NaN</td>\n",
       "      <td>NaN</td>\n",
       "      <td>NaN</td>\n",
       "    </tr>\n",
       "    <tr>\n",
       "      <th>Hospitalized Count</th>\n",
       "      <td>NaN</td>\n",
       "      <td>NaN</td>\n",
       "      <td>NaN</td>\n",
       "      <td>NaN</td>\n",
       "      <td>NaN</td>\n",
       "      <td>NaN</td>\n",
       "    </tr>\n",
       "    <tr>\n",
       "      <th>Death Due To Illness Count - County Of Residence</th>\n",
       "      <td>NaN</td>\n",
       "      <td>NaN</td>\n",
       "      <td>1.000000</td>\n",
       "      <td>-0.076023</td>\n",
       "      <td>-0.243979</td>\n",
       "      <td>-0.178298</td>\n",
       "    </tr>\n",
       "    <tr>\n",
       "      <th>vaccines_started</th>\n",
       "      <td>NaN</td>\n",
       "      <td>NaN</td>\n",
       "      <td>-0.076023</td>\n",
       "      <td>1.000000</td>\n",
       "      <td>0.644550</td>\n",
       "      <td>-0.300439</td>\n",
       "    </tr>\n",
       "    <tr>\n",
       "      <th>vaccines_completed</th>\n",
       "      <td>NaN</td>\n",
       "      <td>NaN</td>\n",
       "      <td>-0.243979</td>\n",
       "      <td>0.644550</td>\n",
       "      <td>1.000000</td>\n",
       "      <td>-0.251704</td>\n",
       "    </tr>\n",
       "    <tr>\n",
       "      <th>vaccines_first_additional_dose</th>\n",
       "      <td>NaN</td>\n",
       "      <td>NaN</td>\n",
       "      <td>-0.178298</td>\n",
       "      <td>-0.300439</td>\n",
       "      <td>-0.251704</td>\n",
       "      <td>1.000000</td>\n",
       "    </tr>\n",
       "  </tbody>\n",
       "</table>\n",
       "</div>"
      ],
      "text/plain": [
       "                                                  Case Count  \\\n",
       "Case Count                                               NaN   \n",
       "Hospitalized Count                                       NaN   \n",
       "Death Due To Illness Count - County Of Residence         NaN   \n",
       "vaccines_started                                         NaN   \n",
       "vaccines_completed                                       NaN   \n",
       "vaccines_first_additional_dose                           NaN   \n",
       "\n",
       "                                                  Hospitalized Count  \\\n",
       "Case Count                                                       NaN   \n",
       "Hospitalized Count                                               NaN   \n",
       "Death Due To Illness Count - County Of Residence                 NaN   \n",
       "vaccines_started                                                 NaN   \n",
       "vaccines_completed                                               NaN   \n",
       "vaccines_first_additional_dose                                   NaN   \n",
       "\n",
       "                                                  Death Due To Illness Count - County Of Residence  \\\n",
       "Case Count                                                                                     NaN   \n",
       "Hospitalized Count                                                                             NaN   \n",
       "Death Due To Illness Count - County Of Residence                                          1.000000   \n",
       "vaccines_started                                                                         -0.076023   \n",
       "vaccines_completed                                                                       -0.243979   \n",
       "vaccines_first_additional_dose                                                           -0.178298   \n",
       "\n",
       "                                                  vaccines_started  \\\n",
       "Case Count                                                     NaN   \n",
       "Hospitalized Count                                             NaN   \n",
       "Death Due To Illness Count - County Of Residence         -0.076023   \n",
       "vaccines_started                                          1.000000   \n",
       "vaccines_completed                                        0.644550   \n",
       "vaccines_first_additional_dose                           -0.300439   \n",
       "\n",
       "                                                  vaccines_completed  \\\n",
       "Case Count                                                       NaN   \n",
       "Hospitalized Count                                               NaN   \n",
       "Death Due To Illness Count - County Of Residence           -0.243979   \n",
       "vaccines_started                                            0.644550   \n",
       "vaccines_completed                                          1.000000   \n",
       "vaccines_first_additional_dose                             -0.251704   \n",
       "\n",
       "                                                  vaccines_first_additional_dose  \n",
       "Case Count                                                                   NaN  \n",
       "Hospitalized Count                                                           NaN  \n",
       "Death Due To Illness Count - County Of Residence                       -0.178298  \n",
       "vaccines_started                                                       -0.300439  \n",
       "vaccines_completed                                                     -0.251704  \n",
       "vaccines_first_additional_dose                                          1.000000  "
      ]
     },
     "execution_count": 110,
     "metadata": {},
     "output_type": "execute_result"
    }
   ],
   "source": [
    "#Run some descriptive checks on coorelation\n",
    "vax_and_death_left.corr(method='pearson')"
   ]
  },
  {
   "cell_type": "code",
   "execution_count": 111,
   "metadata": {
    "id": "156d4eeaf02b444c8627b9baf95ed029"
   },
   "outputs": [
    {
     "data": {
      "text/html": [
       "<div>\n",
       "<style scoped>\n",
       "    .dataframe tbody tr th:only-of-type {\n",
       "        vertical-align: middle;\n",
       "    }\n",
       "\n",
       "    .dataframe tbody tr th {\n",
       "        vertical-align: top;\n",
       "    }\n",
       "\n",
       "    .dataframe thead th {\n",
       "        text-align: right;\n",
       "    }\n",
       "</style>\n",
       "<table border=\"1\" class=\"dataframe\">\n",
       "  <thead>\n",
       "    <tr style=\"text-align: right;\">\n",
       "      <th></th>\n",
       "      <th>Case Count</th>\n",
       "      <th>Hospitalized Count</th>\n",
       "      <th>Death Due To Illness Count - County Of Residence</th>\n",
       "      <th>vaccines_started</th>\n",
       "      <th>vaccines_completed</th>\n",
       "      <th>vaccines_first_additional_dose</th>\n",
       "    </tr>\n",
       "  </thead>\n",
       "  <tbody>\n",
       "    <tr>\n",
       "      <th>Case Count</th>\n",
       "      <td>NaN</td>\n",
       "      <td>NaN</td>\n",
       "      <td>NaN</td>\n",
       "      <td>NaN</td>\n",
       "      <td>NaN</td>\n",
       "      <td>NaN</td>\n",
       "    </tr>\n",
       "    <tr>\n",
       "      <th>Hospitalized Count</th>\n",
       "      <td>NaN</td>\n",
       "      <td>NaN</td>\n",
       "      <td>NaN</td>\n",
       "      <td>NaN</td>\n",
       "      <td>NaN</td>\n",
       "      <td>NaN</td>\n",
       "    </tr>\n",
       "    <tr>\n",
       "      <th>Death Due To Illness Count - County Of Residence</th>\n",
       "      <td>NaN</td>\n",
       "      <td>NaN</td>\n",
       "      <td>1.000000</td>\n",
       "      <td>-0.036556</td>\n",
       "      <td>-0.297721</td>\n",
       "      <td>-0.104525</td>\n",
       "    </tr>\n",
       "    <tr>\n",
       "      <th>vaccines_started</th>\n",
       "      <td>NaN</td>\n",
       "      <td>NaN</td>\n",
       "      <td>-0.036556</td>\n",
       "      <td>1.000000</td>\n",
       "      <td>0.588124</td>\n",
       "      <td>-0.494471</td>\n",
       "    </tr>\n",
       "    <tr>\n",
       "      <th>vaccines_completed</th>\n",
       "      <td>NaN</td>\n",
       "      <td>NaN</td>\n",
       "      <td>-0.297721</td>\n",
       "      <td>0.588124</td>\n",
       "      <td>1.000000</td>\n",
       "      <td>-0.205580</td>\n",
       "    </tr>\n",
       "    <tr>\n",
       "      <th>vaccines_first_additional_dose</th>\n",
       "      <td>NaN</td>\n",
       "      <td>NaN</td>\n",
       "      <td>-0.104525</td>\n",
       "      <td>-0.494471</td>\n",
       "      <td>-0.205580</td>\n",
       "      <td>1.000000</td>\n",
       "    </tr>\n",
       "  </tbody>\n",
       "</table>\n",
       "</div>"
      ],
      "text/plain": [
       "                                                  Case Count  \\\n",
       "Case Count                                               NaN   \n",
       "Hospitalized Count                                       NaN   \n",
       "Death Due To Illness Count - County Of Residence         NaN   \n",
       "vaccines_started                                         NaN   \n",
       "vaccines_completed                                       NaN   \n",
       "vaccines_first_additional_dose                           NaN   \n",
       "\n",
       "                                                  Hospitalized Count  \\\n",
       "Case Count                                                       NaN   \n",
       "Hospitalized Count                                               NaN   \n",
       "Death Due To Illness Count - County Of Residence                 NaN   \n",
       "vaccines_started                                                 NaN   \n",
       "vaccines_completed                                               NaN   \n",
       "vaccines_first_additional_dose                                   NaN   \n",
       "\n",
       "                                                  Death Due To Illness Count - County Of Residence  \\\n",
       "Case Count                                                                                     NaN   \n",
       "Hospitalized Count                                                                             NaN   \n",
       "Death Due To Illness Count - County Of Residence                                          1.000000   \n",
       "vaccines_started                                                                         -0.036556   \n",
       "vaccines_completed                                                                       -0.297721   \n",
       "vaccines_first_additional_dose                                                           -0.104525   \n",
       "\n",
       "                                                  vaccines_started  \\\n",
       "Case Count                                                     NaN   \n",
       "Hospitalized Count                                             NaN   \n",
       "Death Due To Illness Count - County Of Residence         -0.036556   \n",
       "vaccines_started                                          1.000000   \n",
       "vaccines_completed                                        0.588124   \n",
       "vaccines_first_additional_dose                           -0.494471   \n",
       "\n",
       "                                                  vaccines_completed  \\\n",
       "Case Count                                                       NaN   \n",
       "Hospitalized Count                                               NaN   \n",
       "Death Due To Illness Count - County Of Residence           -0.297721   \n",
       "vaccines_started                                            0.588124   \n",
       "vaccines_completed                                          1.000000   \n",
       "vaccines_first_additional_dose                             -0.205580   \n",
       "\n",
       "                                                  vaccines_first_additional_dose  \n",
       "Case Count                                                                   NaN  \n",
       "Hospitalized Count                                                           NaN  \n",
       "Death Due To Illness Count - County Of Residence                       -0.104525  \n",
       "vaccines_started                                                       -0.494471  \n",
       "vaccines_completed                                                     -0.205580  \n",
       "vaccines_first_additional_dose                                          1.000000  "
      ]
     },
     "execution_count": 111,
     "metadata": {},
     "output_type": "execute_result"
    }
   ],
   "source": [
    "vax_and_death_left.corr(method='spearman')"
   ]
  },
  {
   "cell_type": "code",
   "execution_count": 112,
   "metadata": {
    "id": "9b770c8150c94d65849e2241d20dad2d"
   },
   "outputs": [
    {
     "data": {
      "text/plain": [
       "(-0.2439791378516385, 4.6125150792641784e-05)"
      ]
     },
     "execution_count": 112,
     "metadata": {},
     "output_type": "execute_result"
    }
   ],
   "source": [
    "scipy.stats.pearsonr(vax_and_death_left[\"Death Due To Illness Count - County Of Residence\"], vax_and_death_left[\"vaccines_completed\"])"
   ]
  },
  {
   "cell_type": "markdown",
   "metadata": {
    "id": "2bb3e65798514f7d873cabd333509bee"
   },
   "source": [
    "There's something there, but it's not particularly strong. Try and build a model to generalize the effect."
   ]
  },
  {
   "cell_type": "code",
   "execution_count": 130,
   "metadata": {
    "id": "dc0537f66cb34a108f7bc54a91d09ec0"
   },
   "outputs": [],
   "source": [
    "#Simplify things by selecting only the columns that we need for analysis\n",
    "model_dataset=vax_and_death_left[['Date', 'Death Due To Illness Count - County Of Residence', 'vaccines_completed']]"
   ]
  },
  {
   "cell_type": "code",
   "execution_count": 132,
   "metadata": {
    "id": "d61ce32bcff9429097aff8f85279202d"
   },
   "outputs": [
    {
     "data": {
      "text/html": [
       "<div>\n",
       "<style scoped>\n",
       "    .dataframe tbody tr th:only-of-type {\n",
       "        vertical-align: middle;\n",
       "    }\n",
       "\n",
       "    .dataframe tbody tr th {\n",
       "        vertical-align: top;\n",
       "    }\n",
       "\n",
       "    .dataframe thead th {\n",
       "        text-align: right;\n",
       "    }\n",
       "</style>\n",
       "<table border=\"1\" class=\"dataframe\">\n",
       "  <thead>\n",
       "    <tr style=\"text-align: right;\">\n",
       "      <th></th>\n",
       "      <th>Date</th>\n",
       "      <th>Death Due To Illness Count - County Of Residence</th>\n",
       "      <th>vaccines_completed</th>\n",
       "    </tr>\n",
       "  </thead>\n",
       "  <tbody>\n",
       "    <tr>\n",
       "      <th>210</th>\n",
       "      <td>2020-12-14</td>\n",
       "      <td>12</td>\n",
       "      <td>0.0</td>\n",
       "    </tr>\n",
       "    <tr>\n",
       "      <th>211</th>\n",
       "      <td>2020-12-15</td>\n",
       "      <td>13</td>\n",
       "      <td>0.0</td>\n",
       "    </tr>\n",
       "    <tr>\n",
       "      <th>212</th>\n",
       "      <td>2020-12-16</td>\n",
       "      <td>14</td>\n",
       "      <td>0.0</td>\n",
       "    </tr>\n",
       "    <tr>\n",
       "      <th>213</th>\n",
       "      <td>2020-12-17</td>\n",
       "      <td>11</td>\n",
       "      <td>0.0</td>\n",
       "    </tr>\n",
       "    <tr>\n",
       "      <th>214</th>\n",
       "      <td>2020-12-18</td>\n",
       "      <td>10</td>\n",
       "      <td>0.0</td>\n",
       "    </tr>\n",
       "  </tbody>\n",
       "</table>\n",
       "</div>"
      ],
      "text/plain": [
       "          Date  Death Due To Illness Count - County Of Residence  \\\n",
       "210 2020-12-14                                                12   \n",
       "211 2020-12-15                                                13   \n",
       "212 2020-12-16                                                14   \n",
       "213 2020-12-17                                                11   \n",
       "214 2020-12-18                                                10   \n",
       "\n",
       "     vaccines_completed  \n",
       "210                 0.0  \n",
       "211                 0.0  \n",
       "212                 0.0  \n",
       "213                 0.0  \n",
       "214                 0.0  "
      ]
     },
     "execution_count": 132,
     "metadata": {},
     "output_type": "execute_result"
    }
   ],
   "source": [
    "model_dataset.head()"
   ]
  },
  {
   "cell_type": "code",
   "execution_count": 204,
   "metadata": {
    "id": "e564e7c7f18449b6af46b62929ec9fb4"
   },
   "outputs": [
    {
     "name": "stderr",
     "output_type": "stream",
     "text": [
      "/opt/conda/envs/Python-3.8-main/lib/python3.8/site-packages/statsmodels/tsa/arima_model.py:472: FutureWarning: \n",
      "statsmodels.tsa.arima_model.ARMA and statsmodels.tsa.arima_model.ARIMA have\n",
      "been deprecated in favor of statsmodels.tsa.arima.model.ARIMA (note the .\n",
      "between arima and model) and\n",
      "statsmodels.tsa.SARIMAX. These will be removed after the 0.12 release.\n",
      "\n",
      "statsmodels.tsa.arima.model.ARIMA makes use of the statespace framework and\n",
      "is both well tested and maintained.\n",
      "\n",
      "To silence this warning and continue using ARMA and ARIMA until they are\n",
      "removed, use:\n",
      "\n",
      "import warnings\n",
      "warnings.filterwarnings('ignore', 'statsmodels.tsa.arima_model.ARMA',\n",
      "                        FutureWarning)\n",
      "warnings.filterwarnings('ignore', 'statsmodels.tsa.arima_model.ARIMA',\n",
      "                        FutureWarning)\n",
      "\n",
      "  warnings.warn(ARIMA_DEPRECATION_WARN, FutureWarning)\n",
      "/opt/conda/envs/Python-3.8-main/lib/python3.8/site-packages/statsmodels/tsa/base/tsa_model.py:578: ValueWarning: An unsupported index was provided and will be ignored when e.g. forecasting.\n",
      "  warnings.warn('An unsupported index was provided and will be'\n",
      "/opt/conda/envs/Python-3.8-main/lib/python3.8/site-packages/statsmodels/tsa/base/tsa_model.py:578: ValueWarning: An unsupported index was provided and will be ignored when e.g. forecasting.\n",
      "  warnings.warn('An unsupported index was provided and will be'\n",
      "/opt/conda/envs/Python-3.8-main/lib/python3.8/site-packages/statsmodels/tsa/tsatools.py:701: RuntimeWarning: overflow encountered in exp\n",
      "  newparams = ((1-np.exp(-params))/(1+np.exp(-params))).copy()\n",
      "/opt/conda/envs/Python-3.8-main/lib/python3.8/site-packages/statsmodels/tsa/tsatools.py:701: RuntimeWarning: invalid value encountered in true_divide\n",
      "  newparams = ((1-np.exp(-params))/(1+np.exp(-params))).copy()\n",
      "/opt/conda/envs/Python-3.8-main/lib/python3.8/site-packages/statsmodels/tsa/tsatools.py:702: RuntimeWarning: overflow encountered in exp\n",
      "  tmp = ((1-np.exp(-params))/(1+np.exp(-params))).copy()\n",
      "/opt/conda/envs/Python-3.8-main/lib/python3.8/site-packages/statsmodels/tsa/tsatools.py:702: RuntimeWarning: invalid value encountered in true_divide\n",
      "  tmp = ((1-np.exp(-params))/(1+np.exp(-params))).copy()\n"
     ]
    },
    {
     "name": "stdout",
     "output_type": "stream",
     "text": [
      "                                              ARIMA Model Results                                              \n",
      "===============================================================================================================\n",
      "Dep. Variable:     D2.Death Due To Illness Count - County Of Residence   No. Observations:                  271\n",
      "Model:                                                  ARIMA(5, 2, 2)   Log Likelihood                -558.894\n",
      "Method:                                                        css-mle   S.D. of innovations              1.867\n",
      "Date:                                                 Sun, 09 Jan 2022   AIC                           1135.788\n",
      "Time:                                                         18:55:29   BIC                           1168.207\n",
      "Sample:                                                              2   HQIC                          1148.805\n",
      "                                                                                                               \n",
      "=============================================================================================================================\n",
      "                                                                coef    std err          z      P>|z|      [0.025      0.975]\n",
      "-----------------------------------------------------------------------------------------------------------------------------\n",
      "const                                                         0.0006      0.000      2.323      0.020    8.63e-05       0.001\n",
      "ar.L1.D2.Death Due To Illness Count - County Of Residence     0.1458      0.074      1.967      0.049       0.001       0.291\n",
      "ar.L2.D2.Death Due To Illness Count - County Of Residence     0.0789      0.069      1.150      0.250      -0.056       0.213\n",
      "ar.L3.D2.Death Due To Illness Count - County Of Residence     0.0437      0.066      0.659      0.510      -0.086       0.174\n",
      "ar.L4.D2.Death Due To Illness Count - County Of Residence    -0.0187      0.065     -0.288      0.773      -0.146       0.109\n",
      "ar.L5.D2.Death Due To Illness Count - County Of Residence     0.0265      0.065      0.409      0.682      -0.100       0.153\n",
      "ma.L1.D2.Death Due To Illness Count - County Of Residence    -1.8910        nan        nan        nan         nan         nan\n",
      "ma.L2.D2.Death Due To Illness Count - County Of Residence     0.8910        nan        nan        nan         nan         nan\n",
      "                                    Roots                                    \n",
      "=============================================================================\n",
      "                  Real          Imaginary           Modulus         Frequency\n",
      "-----------------------------------------------------------------------------\n",
      "AR.1           -1.5080           -1.2654j            1.9686           -0.3889\n",
      "AR.2           -1.5080           +1.2654j            1.9686            0.3889\n",
      "AR.3            1.7558           -0.0000j            1.7558           -0.0000\n",
      "AR.4            0.9832           -2.1401j            2.3551           -0.1815\n",
      "AR.5            0.9832           +2.1401j            2.3551            0.1815\n",
      "MA.1            1.0000           +0.0000j            1.0000            0.0000\n",
      "MA.2            1.1223           +0.0000j            1.1223            0.0000\n",
      "-----------------------------------------------------------------------------\n"
     ]
    },
    {
     "name": "stderr",
     "output_type": "stream",
     "text": [
      "/opt/conda/envs/Python-3.8-main/lib/python3.8/site-packages/statsmodels/tsa/arima_model.py:472: FutureWarning: \n",
      "statsmodels.tsa.arima_model.ARMA and statsmodels.tsa.arima_model.ARIMA have\n",
      "been deprecated in favor of statsmodels.tsa.arima.model.ARIMA (note the .\n",
      "between arima and model) and\n",
      "statsmodels.tsa.SARIMAX. These will be removed after the 0.12 release.\n",
      "\n",
      "statsmodels.tsa.arima.model.ARIMA makes use of the statespace framework and\n",
      "is both well tested and maintained.\n",
      "\n",
      "To silence this warning and continue using ARMA and ARIMA until they are\n",
      "removed, use:\n",
      "\n",
      "import warnings\n",
      "warnings.filterwarnings('ignore', 'statsmodels.tsa.arima_model.ARMA',\n",
      "                        FutureWarning)\n",
      "warnings.filterwarnings('ignore', 'statsmodels.tsa.arima_model.ARIMA',\n",
      "                        FutureWarning)\n",
      "\n",
      "  warnings.warn(ARIMA_DEPRECATION_WARN, FutureWarning)\n",
      "/opt/conda/envs/Python-3.8-main/lib/python3.8/site-packages/statsmodels/tsa/arima_model.py:1521: RuntimeWarning: invalid value encountered in sqrt\n",
      "  return np.sqrt(np.diag(-inv(hess)))\n"
     ]
    }
   ],
   "source": [
    "#Build a quick Autoregressive integrated moving average model. We don't expect to have a simple linear regression here, but let's see what the model predicts for Mortality.\n",
    "\n",
    "from statsmodels.tsa.arima_model import ARIMA\n",
    "\n",
    "# 1,1,1 ARIMA Model\n",
    "#Arima models have 3 parameters:\n",
    "#p is the order (number of time lags) of the autoregressive model\n",
    "#d is the degree of differencing\n",
    "#q is the order of the moving-average model.\n",
    "\n",
    "model = ARIMA(model_dataset[\"Death Due To Illness Count - County Of Residence\"], order=(5,2,2))\n",
    "model_fit = model.fit(disp=0)\n",
    "print(model_fit.summary())"
   ]
  },
  {
   "cell_type": "code",
   "execution_count": 202,
   "metadata": {
    "id": "21edce8169f9444b80f926dcf7ed47fa"
   },
   "outputs": [
    {
     "data": {
      "image/png": "[encoded data removed]",
      "text/plain": [
       "<Figure size 432x288 with 2 Axes>"
      ]
     },
     "metadata": {
      "needs_background": "light"
     },
     "output_type": "display_data"
    }
   ],
   "source": [
    "# Plot residual errors\n",
    "residuals = pd.DataFrame(model_fit.resid)\n",
    "fig, ax = plt.subplots(1,2)\n",
    "residuals.plot(title=\"Residuals\", ax=ax[0])\n",
    "residuals.plot(kind='kde', title='Density', ax=ax[1])\n",
    "plt.show()"
   ]
  },
  {
   "cell_type": "code",
   "execution_count": 205,
   "metadata": {
    "id": "ea819d94e95a4ac7885af74db837b713",
    "scrolled": true
   },
   "outputs": [
    {
     "data": {
      "image/png": "[encoded data removed]",
      "text/plain": [
       "<Figure size 432x288 with 1 Axes>"
      ]
     },
     "metadata": {
      "needs_background": "light"
     },
     "output_type": "display_data"
    }
   ],
   "source": [
    "#Plot our predictions\n",
    "model_fit.plot_predict(dynamic=False)\n",
    "plt.show()"
   ]
  },
  {
   "cell_type": "markdown",
   "metadata": {
    "id": "849babdb1563424f8ac5662cc63a5158"
   },
   "source": [
    "We could spend more time optimizing our parameters, but it looks like the availability of vaccines continues to drive mortality down, even if the pace of expansion has slowed."
   ]
  }
 ],
 "metadata": {
  "kernelspec": {
   "display_name": "Python 3.8",
   "language": "python",
   "name": "python3"
  },
  "language_info": {
   "codemirror_mode": {
    "name": "ipython",
    "version": 3
   },
   "file_extension": ".py",
   "mimetype": "text/x-python",
   "name": "python",
   "nbconvert_exporter": "python",
   "pygments_lexer": "ipython3",
   "version": "3.8.11"
  }
 },
 "nbformat": 4,
 "nbformat_minor": 1
}
